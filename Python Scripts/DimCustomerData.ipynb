{
 "cells": [
  {
   "cell_type": "code",
   "execution_count": 2,
   "id": "a75d2a76-f448-423b-b238-63e83c1ea02e",
   "metadata": {},
   "outputs": [
    {
     "name": "stdout",
     "output_type": "stream",
     "text": [
      "Collecting faker\n",
      "  Downloading faker-37.4.0-py3-none-any.whl.metadata (15 kB)\n",
      "Requirement already satisfied: tzdata in c:\\users\\adminuser\\anaconda3\\lib\\site-packages (from faker) (2023.3)\n",
      "Downloading faker-37.4.0-py3-none-any.whl (1.9 MB)\n",
      "   ---------------------------------------- 0.0/1.9 MB ? eta -:--:--\n",
      "    --------------------------------------- 0.0/1.9 MB 1.3 MB/s eta 0:00:02\n",
      "   -------- ------------------------------- 0.4/1.9 MB 4.9 MB/s eta 0:00:01\n",
      "   ------------------------ --------------- 1.2/1.9 MB 9.3 MB/s eta 0:00:01\n",
      "   ---------------------------------------  1.9/1.9 MB 12.3 MB/s eta 0:00:01\n",
      "   ---------------------------------------- 1.9/1.9 MB 11.2 MB/s eta 0:00:00\n",
      "Installing collected packages: faker\n",
      "Successfully installed faker-37.4.0\n"
     ]
    }
   ],
   "source": [
    "!pip install faker"
   ]
  },
  {
   "cell_type": "code",
   "execution_count": 3,
   "id": "dd0303a0-d869-4bff-a327-569d15554663",
   "metadata": {},
   "outputs": [],
   "source": [
    "#import python libraries\n",
    "import csv\n",
    "import random\n",
    "from faker import Faker"
   ]
  },
  {
   "cell_type": "code",
   "execution_count": 4,
   "id": "53f6263f-34c1-412a-b325-38061ae5c45e",
   "metadata": {},
   "outputs": [],
   "source": [
    "#initialize\n",
    "fake = Faker()"
   ]
  },
  {
   "cell_type": "code",
   "execution_count": 45,
   "id": "da8bcd72-e89c-492f-8f2d-d19d7761a2d0",
   "metadata": {},
   "outputs": [
    {
     "name": "stdin",
     "output_type": "stream",
     "text": [
      "Enter the number that the csv file should have: 10000\n"
     ]
    }
   ],
   "source": [
    "#input the number of rows that the csv file should have\n",
    "num_rows = int(input(\"Enter the number that the csv file should have:\"))"
   ]
  },
  {
   "cell_type": "code",
   "execution_count": 46,
   "id": "095573da-1943-46f7-b0e0-338276341d8d",
   "metadata": {},
   "outputs": [
    {
     "name": "stdin",
     "output_type": "stream",
     "text": [
      "Enter the name of the csv file: DimCustomerInfo.csv\n"
     ]
    }
   ],
   "source": [
    "#input the name of the csv file\n",
    "csv_file = input(\"Enter the name of the csv file:\")"
   ]
  },
  {
   "cell_type": "code",
   "execution_count": 47,
   "id": "07288d23-de47-4660-aa3b-14287d2db72c",
   "metadata": {},
   "outputs": [],
   "source": [
    "#open the csv file\n",
    "with open(csv_file, mode='w', newline='') as file:\n",
    "    writer = csv.writer(file)"
   ]
  },
  {
   "cell_type": "code",
   "execution_count": 48,
   "id": "e4c37333-1c46-4892-9e37-00d9d6520e71",
   "metadata": {},
   "outputs": [],
   "source": [
    "#create the header\n",
    "header = ['FirstName','LastName','Gender','DOB','Email','Address','City','State','ZipCode','Country','LoyaltyProgramID']"
   ]
  },
  {
   "cell_type": "code",
   "execution_count": 52,
   "id": "7ccd3d59-f9db-4f17-b6e7-a0400048bdc9",
   "metadata": {},
   "outputs": [],
   "source": [
    "#write the header to the csv file\n",
    "with open(csv_file, mode='w', newline='') as file:\n",
    "    writer = csv.writer(file)\n",
    "    writer.writerow(header) "
   ]
  },
  {
   "cell_type": "code",
   "execution_count": 56,
   "id": "b02decf5-f637-429f-a22c-12e519aaf49d",
   "metadata": {},
   "outputs": [
    {
     "name": "stdout",
     "output_type": "stream",
     "text": [
      "10000 rows of fake data have been written to DimCustomerInfo.csv\n"
     ]
    }
   ],
   "source": [
    "#generate fake data and write to csv\n",
    "with open(csv_file, mode='w', newline='') as file:\n",
    "    writer = csv.writer(file)\n",
    "    writer.writerow(header) \n",
    "    for _ in range(num_rows):\n",
    "        row = [\n",
    "            fake.first_name(),\n",
    "            fake.last_name(),\n",
    "            random.choice(['M','F']),\n",
    "            fake.date(),\n",
    "            fake.email(),\n",
    "            fake.address().replace(\"\\n\",\" \").replace(\",\",\" \"),\n",
    "            fake.city(),\n",
    "            fake.state(),\n",
    "            fake.postcode(),\n",
    "            fake.country(),\n",
    "            random.randint(1, 5)\n",
    "        ]\n",
    "        writer.writerow(row)\n",
    "print(f\"{num_rows} rows of fake data have been written to {csv_file}\")"
   ]
  },
  {
   "cell_type": "code",
   "execution_count": null,
   "id": "4a25d1ce-ac02-42ae-be5e-44c1d71dcd32",
   "metadata": {},
   "outputs": [],
   "source": []
  }
 ],
 "metadata": {
  "kernelspec": {
   "display_name": "Python 3 (ipykernel)",
   "language": "python",
   "name": "python3"
  },
  "language_info": {
   "codemirror_mode": {
    "name": "ipython",
    "version": 3
   },
   "file_extension": ".py",
   "mimetype": "text/x-python",
   "name": "python",
   "nbconvert_exporter": "python",
   "pygments_lexer": "ipython3",
   "version": "3.11.7"
  }
 },
 "nbformat": 4,
 "nbformat_minor": 5
}
