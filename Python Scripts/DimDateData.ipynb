{
 "cells": [
  {
   "cell_type": "code",
   "execution_count": 1,
   "id": "58819662-cd48-4c99-ba41-2ccfcdb2f36c",
   "metadata": {},
   "outputs": [],
   "source": [
    "#import required libraries\n",
    "import pandas as pd"
   ]
  },
  {
   "cell_type": "code",
   "execution_count": 2,
   "id": "0176f7e2-185a-4ae8-ab48-111aec89a01d",
   "metadata": {},
   "outputs": [],
   "source": [
    "#startdate and enddate between which we need to generate our dates\n",
    "start_date = \"2014-01-01\"\n",
    "end_date = \"2024-12-31\""
   ]
  },
  {
   "cell_type": "code",
   "execution_count": 3,
   "id": "5b39c294-c669-4986-8843-59c471fbb6f0",
   "metadata": {},
   "outputs": [
    {
     "name": "stdout",
     "output_type": "stream",
     "text": [
      "DatetimeIndex(['2014-01-01', '2014-01-02', '2014-01-03', '2014-01-04',\n",
      "               '2014-01-05', '2014-01-06', '2014-01-07', '2014-01-08',\n",
      "               '2014-01-09', '2014-01-10',\n",
      "               ...\n",
      "               '2024-12-22', '2024-12-23', '2024-12-24', '2024-12-25',\n",
      "               '2024-12-26', '2024-12-27', '2024-12-28', '2024-12-29',\n",
      "               '2024-12-30', '2024-12-31'],\n",
      "              dtype='datetime64[ns]', length=4018, freq='D')\n"
     ]
    }
   ],
   "source": [
    "#generate a series of dates between startdate and enddate\n",
    "date_range = pd.date_range(start = start_date, end = end_date)\n",
    "print(date_range)"
   ]
  },
  {
   "cell_type": "code",
   "execution_count": 4,
   "id": "58870d69-02a6-40ee-88b1-9cb13e2ce683",
   "metadata": {},
   "outputs": [
    {
     "name": "stdout",
     "output_type": "stream",
     "text": [
      "           Date\n",
      "0    2014-01-01\n",
      "1    2014-01-02\n",
      "2    2014-01-03\n",
      "3    2014-01-04\n",
      "4    2014-01-05\n",
      "...         ...\n",
      "4013 2024-12-27\n",
      "4014 2024-12-28\n",
      "4015 2024-12-29\n",
      "4016 2024-12-30\n",
      "4017 2024-12-31\n",
      "\n",
      "[4018 rows x 1 columns]\n"
     ]
    }
   ],
   "source": [
    "#convert these series of dates into a dataframe\n",
    "date_dimension = pd.DataFrame(date_range, columns = ['Date'])\n",
    "print(date_dimension)"
   ]
  },
  {
   "cell_type": "code",
   "execution_count": 5,
   "id": "20e9bb2d-4bac-45c9-9c2b-d59532eabecd",
   "metadata": {},
   "outputs": [
    {
     "name": "stdout",
     "output_type": "stream",
     "text": [
      "           Date  DayOfWeek  Month  Quarter  Year  Isweekend    DateID\n",
      "0    2014-01-01          2      1        1  2014      False  20140101\n",
      "1    2014-01-02          3      1        1  2014      False  20140102\n",
      "2    2014-01-03          4      1        1  2014      False  20140103\n",
      "3    2014-01-04          5      1        1  2014       True  20140104\n",
      "4    2014-01-05          6      1        1  2014       True  20140105\n",
      "...         ...        ...    ...      ...   ...        ...       ...\n",
      "4013 2024-12-27          4     12        4  2024      False  20241227\n",
      "4014 2024-12-28          5     12        4  2024       True  20241228\n",
      "4015 2024-12-29          6     12        4  2024       True  20241229\n",
      "4016 2024-12-30          0     12        4  2024      False  20241230\n",
      "4017 2024-12-31          1     12        4  2024      False  20241231\n",
      "\n",
      "[4018 rows x 7 columns]\n"
     ]
    }
   ],
   "source": [
    "#add new columns to dataframe - dayofweek, month, quarter, year, isweekend, dateid\n",
    "date_dimension['DayOfWeek'] = date_dimension['Date'].dt.dayofweek\n",
    "date_dimension['Month'] = date_dimension['Date'].dt.month\n",
    "date_dimension['Quarter'] = date_dimension['Date'].dt.quarter\n",
    "date_dimension['Year'] = date_dimension['Date'].dt.year\n",
    "date_dimension['Isweekend'] = date_dimension['DayOfWeek'].isin([5,6])\n",
    "date_dimension['DateID'] = date_dimension['Date'].dt.strftime('%Y%m%d').astype(int)\n",
    "print(date_dimension)"
   ]
  },
  {
   "cell_type": "code",
   "execution_count": 6,
   "id": "6d3e7181-a9f7-4414-8950-7e36c3e9a55d",
   "metadata": {},
   "outputs": [],
   "source": [
    "#reorder dataframe so that dateID becomes the 1st column\n",
    "cols = ['DateID'] + [col for col in date_dimension.columns if col != 'DateID']\n",
    "date_dimension = date_dimension[cols]"
   ]
  },
  {
   "cell_type": "code",
   "execution_count": 7,
   "id": "9180f647-c4a9-4839-93d0-ea9eec272ac5",
   "metadata": {},
   "outputs": [
    {
     "name": "stdout",
     "output_type": "stream",
     "text": [
      "        DateID       Date  DayOfWeek  Month  Quarter  Year  Isweekend\n",
      "0     20140101 2014-01-01          2      1        1  2014      False\n",
      "1     20140102 2014-01-02          3      1        1  2014      False\n",
      "2     20140103 2014-01-03          4      1        1  2014      False\n",
      "3     20140104 2014-01-04          5      1        1  2014       True\n",
      "4     20140105 2014-01-05          6      1        1  2014       True\n",
      "...        ...        ...        ...    ...      ...   ...        ...\n",
      "4013  20241227 2024-12-27          4     12        4  2024      False\n",
      "4014  20241228 2024-12-28          5     12        4  2024       True\n",
      "4015  20241229 2024-12-29          6     12        4  2024       True\n",
      "4016  20241230 2024-12-30          0     12        4  2024      False\n",
      "4017  20241231 2024-12-31          1     12        4  2024      False\n",
      "\n",
      "[4018 rows x 7 columns]\n"
     ]
    }
   ],
   "source": [
    "print(date_dimension)"
   ]
  },
  {
   "cell_type": "code",
   "execution_count": 8,
   "id": "4b491769-234e-4a8f-a9fb-b62b03b8af77",
   "metadata": {},
   "outputs": [],
   "source": [
    "#export dataframe into csv, index column to be ignored\n",
    "date_dimension.to_csv('DimDateInfo.csv', index=False)"
   ]
  },
  {
   "cell_type": "code",
   "execution_count": null,
   "id": "86808be6-088b-4a2c-b00b-91d1d0d16ca6",
   "metadata": {},
   "outputs": [],
   "source": []
  }
 ],
 "metadata": {
  "kernelspec": {
   "display_name": "Python 3 (ipykernel)",
   "language": "python",
   "name": "python3"
  },
  "language_info": {
   "codemirror_mode": {
    "name": "ipython",
    "version": 3
   },
   "file_extension": ".py",
   "mimetype": "text/x-python",
   "name": "python",
   "nbconvert_exporter": "python",
   "pygments_lexer": "ipython3",
   "version": "3.11.7"
  }
 },
 "nbformat": 4,
 "nbformat_minor": 5
}
