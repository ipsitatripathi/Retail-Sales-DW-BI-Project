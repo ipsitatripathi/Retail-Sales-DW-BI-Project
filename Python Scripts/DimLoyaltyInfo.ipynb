{
 "cells": [
  {
   "cell_type": "code",
   "execution_count": null,
   "id": "3d76c65f-6df8-4f53-b5b1-2ba52b911f92",
   "metadata": {},
   "outputs": [],
   "source": [
    "!pip3 install cx_Oracle"
   ]
  },
  {
   "cell_type": "code",
   "execution_count": null,
   "id": "aa501c58-a688-4a3d-8eb7-3d1630781b8a",
   "metadata": {},
   "outputs": [],
   "source": [
    "import cx_Oracle\n",
    "import pandas as pd"
   ]
  },
  {
   "cell_type": "code",
   "execution_count": null,
   "id": "7795a63b-b1e1-4658-87b8-f7d40ff75c75",
   "metadata": {},
   "outputs": [],
   "source": [
    "username = 'HR'\n",
    "password ='HR'\n",
    "dsn = 'DESKTOP-O0F6VVI:1521/XEPDB1'"
   ]
  },
  {
   "cell_type": "code",
   "execution_count": null,
   "id": "64a38692-594c-4600-97df-3966a203766b",
   "metadata": {},
   "outputs": [],
   "source": [
    "connection = cx_Oracle.connect(username,password,dsn)\n",
    "query = 'select * from DimLoyaltyProgram'"
   ]
  },
  {
   "cell_type": "code",
   "execution_count": null,
   "id": "df420b74-7c54-43a6-ac1b-d24f4cb0d4f7",
   "metadata": {},
   "outputs": [],
   "source": [
    "df = pd.read_sql(query, con=connection)"
   ]
  },
  {
   "cell_type": "code",
   "execution_count": null,
   "id": "3b92d48b-5c6f-4d6d-ba48-7e2e7ad2fda7",
   "metadata": {},
   "outputs": [],
   "source": [
    "df.to_csv('DimLoyaltyInfo.csv',index=False)"
   ]
  }
 ],
 "metadata": {
  "kernelspec": {
   "display_name": "Python 3 (ipykernel)",
   "language": "python",
   "name": "python3"
  },
  "language_info": {
   "codemirror_mode": {
    "name": "ipython",
    "version": 3
   },
   "file_extension": ".py",
   "mimetype": "text/x-python",
   "name": "python",
   "nbconvert_exporter": "python",
   "pygments_lexer": "ipython3",
   "version": "3.11.7"
  }
 },
 "nbformat": 4,
 "nbformat_minor": 5
}
