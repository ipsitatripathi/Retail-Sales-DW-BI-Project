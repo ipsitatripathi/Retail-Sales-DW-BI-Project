{
 "cells": [
  {
   "cell_type": "code",
   "execution_count": 5,
   "id": "49168319-b5ad-4a08-8973-243e292dbd56",
   "metadata": {},
   "outputs": [],
   "source": [
    "#import python libraries\n",
    "import pandas as pd\n",
    "import random\n",
    "import csv"
   ]
  },
  {
   "cell_type": "code",
   "execution_count": 6,
   "id": "ad20e417-cff6-4d6d-88ac-f7194fb16580",
   "metadata": {},
   "outputs": [
    {
     "name": "stdin",
     "output_type": "stream",
     "text": [
      "Enter the number of rows that you want to generate in the csv file: 100\n"
     ]
    }
   ],
   "source": [
    "#input the number of rows that the csv file should have\n",
    "num_rows = int(input(\"Enter the number of rows that you want to generate in the csv file:\"))"
   ]
  },
  {
   "cell_type": "code",
   "execution_count": 7,
   "id": "5f1af946-0b72-49cb-a9c7-b197a6379efe",
   "metadata": {},
   "outputs": [
    {
     "name": "stdin",
     "output_type": "stream",
     "text": [
      "Enter the name of the csv file: DimProductInfo.csv\n"
     ]
    }
   ],
   "source": [
    "#input the name of the csv file\n",
    "csv_file = input(\"Enter the name of the csv file:\")"
   ]
  },
  {
   "cell_type": "code",
   "execution_count": 8,
   "id": "15ff268e-ddfa-48c5-89ad-e285d384aeda",
   "metadata": {},
   "outputs": [],
   "source": [
    "#details of the excel file that has the lookup data - file path, sheet name, column name\n",
    "excel_file_path_name = r\"C:\\Users\\ADMINUSER\\Downloads\\DWBI\\LookupFile.xlsx\"\n",
    "\n",
    "excel_sheet_name_product = \"Raw Product Names\"\n",
    "product_column_name = \"Product Name\"\n",
    "excel_sheet_name_category = \"Product Categories\"\n",
    "category_column_name = \"Category Name\""
   ]
  },
  {
   "cell_type": "code",
   "execution_count": 9,
   "id": "67048b17-636c-465d-bc88-3c1bfe1b029f",
   "metadata": {},
   "outputs": [],
   "source": [
    "#fetch these sheets in dataframes\n",
    "df_product = pd.read_excel(excel_file_path_name, sheet_name=excel_sheet_name_product)\n",
    "df_category = pd.read_excel(excel_file_path_name, excel_sheet_name_category)"
   ]
  },
  {
   "cell_type": "code",
   "execution_count": 10,
   "id": "e4d75d21-3d04-4af9-88e4-5aabcf5ad204",
   "metadata": {},
   "outputs": [],
   "source": [
    "#open the csv file\n",
    "with open(csv_file,mode='w',newline='') as file:\n",
    "    writer = csv.writer(file)"
   ]
  },
  {
   "cell_type": "code",
   "execution_count": 11,
   "id": "fe050149-54bd-472b-8744-6a905ead3184",
   "metadata": {},
   "outputs": [],
   "source": [
    "#create the header\n",
    "header = ['ProductName','Category','Brand','UnitPrice']"
   ]
  },
  {
   "cell_type": "code",
   "execution_count": 13,
   "id": "568c27b1-ccdf-4e06-a8c4-059ba71f710b",
   "metadata": {},
   "outputs": [
    {
     "name": "stdout",
     "output_type": "stream",
     "text": [
      "the process completed successfully\n"
     ]
    }
   ],
   "source": [
    "#write the header and data to csv file\n",
    "with open(csv_file, mode='w', newline='') as file:\n",
    "    writer = csv.writer(file)\n",
    "    writer.writerow(header)\n",
    "    for _ in range(num_rows):\n",
    "        row = [ \n",
    "            df_product[product_column_name].sample(n=1).values[0],\n",
    "            df_category[category_column_name].sample(n=1).values[0],\n",
    "            random.choice(['FakeLuxeAura','FakeUrbanGlow','FakeEtherealEdge','FakeVelvetVista','FakeZenithStyle']),\n",
    "            random.randint(100,1000)]\n",
    "#write the row to csv\n",
    "        writer.writerow(row)\n",
    "print(\"the process completed successfully\")"
   ]
  },
  {
   "cell_type": "code",
   "execution_count": null,
   "id": "bcfbb8ba-82b0-4e98-8faa-57a7bbfd5ec8",
   "metadata": {},
   "outputs": [],
   "source": []
  }
 ],
 "metadata": {
  "kernelspec": {
   "display_name": "Python 3 (ipykernel)",
   "language": "python",
   "name": "python3"
  },
  "language_info": {
   "codemirror_mode": {
    "name": "ipython",
    "version": 3
   },
   "file_extension": ".py",
   "mimetype": "text/x-python",
   "name": "python",
   "nbconvert_exporter": "python",
   "pygments_lexer": "ipython3",
   "version": "3.11.7"
  }
 },
 "nbformat": 4,
 "nbformat_minor": 5
}
