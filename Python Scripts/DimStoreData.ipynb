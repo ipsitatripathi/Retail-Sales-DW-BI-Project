{
 "cells": [
  {
   "cell_type": "code",
   "execution_count": 2,
   "id": "3fa932ea-0bd0-4454-872f-0b952f7f07ec",
   "metadata": {},
   "outputs": [],
   "source": [
    "#import python libraries\n",
    "import pandas as pd\n",
    "import random\n",
    "import csv\n",
    "from faker import Faker"
   ]
  },
  {
   "cell_type": "code",
   "execution_count": 3,
   "id": "6df9665c-a3f2-4b8d-b92f-c95c6641eae2",
   "metadata": {},
   "outputs": [],
   "source": [
    "#initializa\n",
    "fake = Faker()"
   ]
  },
  {
   "cell_type": "code",
   "execution_count": 28,
   "id": "6c1bfdca-542c-47de-a350-934ca3316af4",
   "metadata": {},
   "outputs": [
    {
     "name": "stdin",
     "output_type": "stream",
     "text": [
      "Enter the number of rows that you want to generate in the csv file: 100\n"
     ]
    }
   ],
   "source": [
    "#input the number of rows that the csv file should have\n",
    "num_rows = int(input(\"Enter the number of rows that you want to generate in the csv file:\"))"
   ]
  },
  {
   "cell_type": "code",
   "execution_count": 29,
   "id": "88e5bb21-70d8-4a18-92f6-979f9092bb31",
   "metadata": {},
   "outputs": [
    {
     "name": "stdin",
     "output_type": "stream",
     "text": [
      "Enter the name of the csv file: DimStoreInfo.csv\n"
     ]
    }
   ],
   "source": [
    "#input the name of the csv file\n",
    "csv_file = input(\"Enter the name of the csv file:\")"
   ]
  },
  {
   "cell_type": "code",
   "execution_count": 30,
   "id": "450333b8-b3ec-4225-b610-93eacff33048",
   "metadata": {},
   "outputs": [],
   "source": [
    "#details of the excel file that has the lookup data - file path, sheet and column names\n",
    "excel_file_path_name = r\"C:\\Users\\ADMINUSER\\Downloads\\DWBI\\LookupFile.xlsx\"\n",
    "excel_sheet_name = \"Store Name Data\"\n",
    "adjective_column_name = \"Adjectives\"\n",
    "noun_column_name = \"Nouns\""
   ]
  },
  {
   "cell_type": "code",
   "execution_count": 31,
   "id": "7237bd14-ef50-471f-93c1-6c7121104223",
   "metadata": {},
   "outputs": [],
   "source": [
    "#fetch the above sheet in a dataframe\n",
    "df = pd.read_excel(excel_file_path_name, sheet_name = excel_sheet_name)"
   ]
  },
  {
   "cell_type": "code",
   "execution_count": 32,
   "id": "243b3707-e0cb-4fb2-958e-4ae6ab9c41f3",
   "metadata": {},
   "outputs": [
    {
     "name": "stdout",
     "output_type": "stream",
     "text": [
      "   Adjectives        Nouns\n",
      "0      Trendy       Corner\n",
      "1       Urban    Treasures\n",
      "2      Rustic     Emporium\n",
      "3    Blissful     Boutique\n",
      "4     Vintage        Vault\n",
      "5        Cozy         Nook\n",
      "6      Modern      Marvels\n",
      "7        Chic       Avenue\n",
      "8     Elegant   Essentials\n",
      "9    Timeless          Hub\n",
      "10  Enchanted    Sanctuary\n",
      "11     Serene        Haven\n",
      "12    Artisan        Deals\n",
      "13     Whimsy       Closet\n",
      "14    Stylish     Elegance\n",
      "15    Radiant       Shoppe\n",
      "16     Unique        Oasis\n",
      "17       Luxe  Marketplace\n",
      "18      Happy  Reflections\n",
      "19     Golden     Merchant\n",
      "20    Harmony   Perfection\n",
      "21     Dapper      Cabinet\n",
      "22     Classy    Creations\n",
      "23   Eclectic      Enclave\n",
      "24    Shimmer         Shop\n",
      "25     Purely        Quest\n",
      "26   Majestic        Finds\n",
      "27   Polished         Loft\n"
     ]
    }
   ],
   "source": [
    "print(df)"
   ]
  },
  {
   "cell_type": "code",
   "execution_count": 33,
   "id": "35e59c68-49a0-4812-ab63-a19dd4b7344a",
   "metadata": {},
   "outputs": [],
   "source": [
    "#open the csv file\n",
    "with open(csv_file, mode='w', newline='') as file:\n",
    "    writer = csv.writer(file)"
   ]
  },
  {
   "cell_type": "code",
   "execution_count": 34,
   "id": "9339fdb6-c1f9-4322-8430-dfa6991da301",
   "metadata": {},
   "outputs": [],
   "source": [
    "#create the header\n",
    "header = ['StoreName','StoreType','StoreOpeningDate','Address','City','State','Country','Region','ManagerName']"
   ]
  },
  {
   "cell_type": "code",
   "execution_count": 35,
   "id": "af59cd81-6a80-429a-ad0a-71c60014d9ac",
   "metadata": {},
   "outputs": [],
   "source": [
    "#write the header to the csv file\n",
    "with open(csv_file, mode='w', newline='') as file:\n",
    "    writer = csv.writer(file)\n",
    "    writer.writerow(header)\n",
    "#loop and generate multiple rows\n",
    "    for _ in range(num_rows):\n",
    "#select a random adjective and noun, concatenate with the word 'The' and get the store name\n",
    "        random_adjective = df[adjective_column_name].sample(n=1).values[0]\n",
    "        random_noun = df[noun_column_name].sample(n=1).values[0]\n",
    "        store_name = f\"The {random_adjective} {random_noun}\"\n",
    "#generate a single row\n",
    "        row = [\n",
    "            store_name,\n",
    "            random.choice(['Exclusive','MBO','SMB','Outlet Stores']),\n",
    "            fake.date(),\n",
    "            fake.address().replace(\"/n\",\" \").replace(\",\",\" \"),\n",
    "            fake.city(),\n",
    "            fake.state(),\n",
    "            fake.country(),\n",
    "            random.choice(['North','South','East', 'West']),\n",
    "            fake.first_name()\n",
    "            ]\n",
    "#write the row to csv\n",
    "        writer.writerow(row)"
   ]
  },
  {
   "cell_type": "code",
   "execution_count": 36,
   "id": "66ae9b79-3b76-43cd-968d-81de20118466",
   "metadata": {},
   "outputs": [
    {
     "name": "stdout",
     "output_type": "stream",
     "text": [
      " the process completed successfully\n"
     ]
    }
   ],
   "source": [
    "#print success statement\n",
    "print(\" the process completed successfully\")"
   ]
  },
  {
   "cell_type": "code",
   "execution_count": null,
   "id": "0c63810d-42b0-4db8-bed0-17c06c1d2716",
   "metadata": {},
   "outputs": [],
   "source": []
  }
 ],
 "metadata": {
  "kernelspec": {
   "display_name": "Python 3 (ipykernel)",
   "language": "python",
   "name": "python3"
  },
  "language_info": {
   "codemirror_mode": {
    "name": "ipython",
    "version": 3
   },
   "file_extension": ".py",
   "mimetype": "text/x-python",
   "name": "python",
   "nbconvert_exporter": "python",
   "pygments_lexer": "ipython3",
   "version": "3.11.7"
  }
 },
 "nbformat": 4,
 "nbformat_minor": 5
}
