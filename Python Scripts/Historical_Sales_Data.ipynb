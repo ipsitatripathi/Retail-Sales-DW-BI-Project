{
 "cells": [
  {
   "cell_type": "code",
   "execution_count": 1,
   "id": "2fd817ae-4406-4c66-84af-0a54e1d7c06c",
   "metadata": {},
   "outputs": [],
   "source": [
    "#importing libraries\n",
    "import pandas as pd\n",
    "import numpy as np"
   ]
  },
  {
   "cell_type": "code",
   "execution_count": 9,
   "id": "6f0e8209-e243-45bb-888d-d2ad0ea4aaff",
   "metadata": {},
   "outputs": [
    {
     "name": "stdin",
     "output_type": "stream",
     "text": [
      "Enter the number of rows for orders: 100000\n"
     ]
    }
   ],
   "source": [
    "#input number of rows required in data\n",
    "num_rows = int(input(\"Enter the number of rows for orders:\"))"
   ]
  },
  {
   "cell_type": "code",
   "execution_count": 10,
   "id": "4f2a5be1-006f-46c4-a836-860bae735232",
   "metadata": {},
   "outputs": [
    {
     "name": "stdout",
     "output_type": "stream",
     "text": [
      "['2015-02-28' '2017-06-05' '2021-07-05' ... '2014-11-04' '2022-10-22'\n",
      " '2014-01-10']\n"
     ]
    }
   ],
   "source": [
    "#generate the series of dates between 2014 and 2024\n",
    "random_dates = np.random.choice(np.arange(np.datetime64('2014-01-01'),np.datetime64('2024-10-31')),size = num_rows)\n",
    "print(random_dates)"
   ]
  },
  {
   "cell_type": "code",
   "execution_count": 11,
   "id": "50c62f0c-f2b5-40ec-a2f2-20e7b4059823",
   "metadata": {},
   "outputs": [],
   "source": [
    "#do the required formatting\n",
    "formatted_rows = pd.to_datetime(random_dates).strftime('%Y%m%d')"
   ]
  },
  {
   "cell_type": "code",
   "execution_count": 12,
   "id": "ddd54889-db8e-4316-a50f-1ccd679bd13d",
   "metadata": {},
   "outputs": [
    {
     "name": "stdout",
     "output_type": "stream",
     "text": [
      "{'DateID': Index(['20150228', '20170605', '20210705', '20240108', '20211019', '20220206',\n",
      "       '20140624', '20200921', '20240419', '20231004',\n",
      "       ...\n",
      "       '20151113', '20180605', '20220515', '20151012', '20220227', '20150302',\n",
      "       '20230827', '20141104', '20221022', '20140110'],\n",
      "      dtype='object', length=100000), 'ProductID': array([195, 460, 424, ..., 252, 600, 717]), 'StoreID': array([93, 30, 78, ..., 49, 39, 36]), 'CustomerID': array([497, 828, 659, ..., 346, 946, 883]), 'QuantityOrdered': array([20,  6, 14, ..., 15,  4, 12]), 'OrderAmount': array([578, 519, 350, ..., 815, 188, 793])}\n"
     ]
    }
   ],
   "source": [
    "data = {\n",
    "    'DateID':formatted_rows,\n",
    "    'ProductID':np.random.randint(1,1001,size = num_rows),\n",
    "    'StoreID':np.random.randint(1,101,size = num_rows),\n",
    "    'CustomerID':np.random.randint(1,1001,size = num_rows),\n",
    "    'QuantityOrdered':np.random.randint(1,21,size = num_rows),\n",
    "    'OrderAmount':np.random.randint(100,1001,size = num_rows)\n",
    "}\n",
    "print(data)"
   ]
  },
  {
   "cell_type": "code",
   "execution_count": 13,
   "id": "963e6583-7a62-4bd0-a6b8-124c8c86ed1a",
   "metadata": {},
   "outputs": [
    {
     "name": "stdout",
     "output_type": "stream",
     "text": [
      "         DateID  ProductID  StoreID  CustomerID  QuantityOrdered  OrderAmount\n",
      "0      20150228        195       93         497               20          578\n",
      "1      20170605        460       30         828                6          519\n",
      "2      20210705        424       78         659               14          350\n",
      "3      20240108         12        6         776                7          986\n",
      "4      20211019        329       42         765               15          863\n",
      "...         ...        ...      ...         ...              ...          ...\n",
      "99995  20150302        705       95         655               11          652\n",
      "99996  20230827        465       67         158                6          593\n",
      "99997  20141104        252       49         346               15          815\n",
      "99998  20221022        600       39         946                4          188\n",
      "99999  20140110        717       36         883               12          793\n",
      "\n",
      "[100000 rows x 6 columns]\n"
     ]
    }
   ],
   "source": [
    "df = pd.DataFrame(data)\n",
    "print(df)"
   ]
  },
  {
   "cell_type": "code",
   "execution_count": 14,
   "id": "0f29f6c1-94fa-49e1-9648-f74c571183cd",
   "metadata": {},
   "outputs": [],
   "source": [
    "discount_perc = np.random.uniform(0.02, 0.15, size = num_rows)\n",
    "shipping_cost = np.random.uniform(0.05, 0.15, size = num_rows)"
   ]
  },
  {
   "cell_type": "code",
   "execution_count": 15,
   "id": "030f8970-5b30-4764-bb03-706d811eb53f",
   "metadata": {},
   "outputs": [
    {
     "name": "stdout",
     "output_type": "stream",
     "text": [
      "         DateID  ProductID  StoreID  CustomerID  QuantityOrdered  OrderAmount  \\\n",
      "0      20150228        195       93         497               20          578   \n",
      "1      20170605        460       30         828                6          519   \n",
      "2      20210705        424       78         659               14          350   \n",
      "3      20240108         12        6         776                7          986   \n",
      "4      20211019        329       42         765               15          863   \n",
      "...         ...        ...      ...         ...              ...          ...   \n",
      "99995  20150302        705       95         655               11          652   \n",
      "99996  20230827        465       67         158                6          593   \n",
      "99997  20141104        252       49         346               15          815   \n",
      "99998  20221022        600       39         946                4          188   \n",
      "99999  20140110        717       36         883               12          793   \n",
      "\n",
      "       DiscountAmount  ShippingCost  TotalAmount  \n",
      "0           46.792457     60.956374   470.251170  \n",
      "1           24.638798     46.155881   448.205321  \n",
      "2           27.572542     25.395111   297.032347  \n",
      "3           23.911859    133.158041   828.930101  \n",
      "4           90.774698     81.748694   690.476607  \n",
      "...               ...           ...          ...  \n",
      "99995       24.541877     57.592153   569.865969  \n",
      "99996       25.651024     78.871410   488.477565  \n",
      "99997       71.460276    108.028398   635.511326  \n",
      "99998       12.486795     11.081498   164.431707  \n",
      "99999       96.457657     67.924338   628.618004  \n",
      "\n",
      "[100000 rows x 9 columns]\n"
     ]
    }
   ],
   "source": [
    "#calculated columns\n",
    "df['DiscountAmount'] = df['OrderAmount'] * discount_perc\n",
    "df['ShippingCost'] = df['OrderAmount'] * shipping_cost\n",
    "df['TotalAmount'] = df['OrderAmount'] - (df['DiscountAmount'] + df['ShippingCost'])\n",
    "print(df)"
   ]
  },
  {
   "cell_type": "code",
   "execution_count": 16,
   "id": "8fc37cd1-c4fc-4dbb-9367-b8d6ed08fac8",
   "metadata": {},
   "outputs": [],
   "source": [
    "#export data to csv\n",
    "df.to_csv('FactOrdersInfo.csv',index=False)"
   ]
  },
  {
   "cell_type": "code",
   "execution_count": null,
   "id": "a4e1ba17-ffd2-4dfb-9ad6-db9e42e80ca8",
   "metadata": {},
   "outputs": [],
   "source": []
  }
 ],
 "metadata": {
  "kernelspec": {
   "display_name": "Python 3 (ipykernel)",
   "language": "python",
   "name": "python3"
  },
  "language_info": {
   "codemirror_mode": {
    "name": "ipython",
    "version": 3
   },
   "file_extension": ".py",
   "mimetype": "text/x-python",
   "name": "python",
   "nbconvert_exporter": "python",
   "pygments_lexer": "ipython3",
   "version": "3.11.7"
  }
 },
 "nbformat": 4,
 "nbformat_minor": 5
}
